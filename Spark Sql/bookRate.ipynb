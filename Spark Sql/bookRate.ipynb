{
  "nbformat": 4,
  "nbformat_minor": 0,
  "metadata": {
    "colab": {
      "provenance": []
    },
    "kernelspec": {
      "name": "python3",
      "display_name": "Python 3"
    },
    "language_info": {
      "name": "python"
    }
  },
  "cells": [
    {
      "cell_type": "code",
      "execution_count": 13,
      "metadata": {
        "id": "eafvg7SrBKVm"
      },
      "outputs": [],
      "source": [
        "from pyspark.sql import SparkSession\n",
        "from pyspark.sql.functions import *\n",
        "import time"
      ]
    },
    {
      "cell_type": "code",
      "source": [
        "spark = SparkSession.builder.master('local[*]').appName('BookRate').getOrCreate()"
      ],
      "metadata": {
        "id": "EpRlBu1EIEKW"
      },
      "execution_count": 7,
      "outputs": []
    },
    {
      "cell_type": "code",
      "source": [
        "rate_df = spark.read.csv('/content/Book-Ratings.csv', sep=';', header=True, inferSchema=True)"
      ],
      "metadata": {
        "id": "BmpaSX1KIQ7d"
      },
      "execution_count": 8,
      "outputs": []
    },
    {
      "cell_type": "code",
      "source": [
        "rate_df.printSchema()"
      ],
      "metadata": {
        "colab": {
          "base_uri": "https://localhost:8080/"
        },
        "id": "5yq88vKUIZ_p",
        "outputId": "37014c11-2515-4acc-cfcd-7474d0f3c040"
      },
      "execution_count": 9,
      "outputs": [
        {
          "output_type": "stream",
          "name": "stdout",
          "text": [
            "root\n",
            " |-- userid: integer (nullable = true)\n",
            " |-- isbn: string (nullable = true)\n",
            " |-- rate: integer (nullable = true)\n",
            "\n"
          ]
        }
      ]
    },
    {
      "cell_type": "code",
      "source": [
        "rate_df_filtered=rate_df.select('isbn', 'rate')\n",
        "rate_df_filtered.show(5)"
      ],
      "metadata": {
        "colab": {
          "base_uri": "https://localhost:8080/"
        },
        "id": "M8yBq_IxIfzc",
        "outputId": "97dbf7d4-1bb3-47ee-8fda-ab7fb1b73a3a"
      },
      "execution_count": 10,
      "outputs": [
        {
          "output_type": "stream",
          "name": "stdout",
          "text": [
            "+----------+----+\n",
            "|      isbn|rate|\n",
            "+----------+----+\n",
            "|034545104X|   0|\n",
            "|0155061224|   5|\n",
            "|0446520802|   0|\n",
            "|052165615X|   3|\n",
            "|0521795028|   6|\n",
            "+----------+----+\n",
            "only showing top 5 rows\n",
            "\n"
          ]
        }
      ]
    },
    {
      "cell_type": "code",
      "source": [
        "result=rate_df_filtered.groupBy('isbn').agg(collect_list('rate').alias('rate')).orderBy('isbn')\n",
        "result.show(10,truncate=False)"
      ],
      "metadata": {
        "colab": {
          "base_uri": "https://localhost:8080/"
        },
        "id": "BmeXQDZmIoO2",
        "outputId": "20e25bb0-6dd4-4726-fdb8-64382aeb46f4"
      },
      "execution_count": 12,
      "outputs": [
        {
          "output_type": "stream",
          "name": "stdout",
          "text": [
            "+-----------+------+\n",
            "|isbn       |rate  |\n",
            "+-----------+------+\n",
            "| 0330299891|[0, 6]|\n",
            "| 0375404120|[3, 0]|\n",
            "| 0586045007|[0]   |\n",
            "| 9022906116|[7, 0]|\n",
            "| 9032803328|[0]   |\n",
            "| 9044922564|[0]   |\n",
            "| 9044922572|[0]   |\n",
            "| 9044922718|[0]   |\n",
            "| 9044923161|[0]   |\n",
            "| 904492401X|[0]   |\n",
            "+-----------+------+\n",
            "only showing top 10 rows\n",
            "\n"
          ]
        }
      ]
    },
    {
      "cell_type": "code",
      "source": [
        "str_time = time.time()\n",
        "result.repartition(1).write.orc('/content/bookRate_output_orc')\n",
        "dur = time.time() - str_time\n",
        "print(dur)"
      ],
      "metadata": {
        "colab": {
          "base_uri": "https://localhost:8080/"
        },
        "id": "-sDqkDxKKN1z",
        "outputId": "8922f6b5-88d2-4119-a564-0df505aa081f"
      },
      "execution_count": 15,
      "outputs": [
        {
          "output_type": "stream",
          "name": "stdout",
          "text": [
            "10.935255289077759\n"
          ]
        }
      ]
    },
    {
      "cell_type": "code",
      "source": [
        "result.printSchema()"
      ],
      "metadata": {
        "colab": {
          "base_uri": "https://localhost:8080/"
        },
        "id": "onu0T7fNLACj",
        "outputId": "d44573d5-3ccb-4e1e-ba52-c4a28fa6cfcc"
      },
      "execution_count": 16,
      "outputs": [
        {
          "output_type": "stream",
          "name": "stdout",
          "text": [
            "root\n",
            " |-- isbn: string (nullable = true)\n",
            " |-- rate: array (nullable = false)\n",
            " |    |-- element: integer (containsNull = false)\n",
            "\n"
          ]
        }
      ]
    },
    {
      "cell_type": "code",
      "source": [
        "result.show(5)"
      ],
      "metadata": {
        "colab": {
          "base_uri": "https://localhost:8080/"
        },
        "id": "079g8KwTLKFc",
        "outputId": "82c8195b-db92-48f6-eed0-764da3849aa0"
      },
      "execution_count": 17,
      "outputs": [
        {
          "output_type": "stream",
          "name": "stdout",
          "text": [
            "+-----------+------+\n",
            "|       isbn|  rate|\n",
            "+-----------+------+\n",
            "| 0330299891|[0, 6]|\n",
            "| 0375404120|[3, 0]|\n",
            "| 0586045007|   [0]|\n",
            "| 9022906116|[7, 0]|\n",
            "| 9032803328|   [0]|\n",
            "+-----------+------+\n",
            "only showing top 5 rows\n",
            "\n"
          ]
        }
      ]
    },
    {
      "cell_type": "code",
      "source": [
        "result2=result.select('isbn', explode('rate').alias('rate'))\n",
        "result2.show(10,truncate=False)"
      ],
      "metadata": {
        "colab": {
          "base_uri": "https://localhost:8080/"
        },
        "id": "vlg9-MGGP81C",
        "outputId": "805e8507-d3f7-4799-8ca7-f3c6fce1e2ec"
      },
      "execution_count": 22,
      "outputs": [
        {
          "output_type": "stream",
          "name": "stdout",
          "text": [
            "+-----------+----+\n",
            "|isbn       |rate|\n",
            "+-----------+----+\n",
            "| 0330299891|0   |\n",
            "| 0330299891|6   |\n",
            "| 0375404120|3   |\n",
            "| 0375404120|0   |\n",
            "| 0586045007|0   |\n",
            "| 9022906116|7   |\n",
            "| 9022906116|0   |\n",
            "| 9032803328|0   |\n",
            "| 9044922564|0   |\n",
            "| 9044922572|0   |\n",
            "+-----------+----+\n",
            "only showing top 10 rows\n",
            "\n"
          ]
        }
      ]
    },
    {
      "cell_type": "code",
      "source": [
        "str_time = time.time()\n",
        "result2.repartition(1).write.orc('/content/bookRate_output2_orc')\n",
        "dur = time.time() - str_time\n",
        "print(dur)"
      ],
      "metadata": {
        "colab": {
          "base_uri": "https://localhost:8080/"
        },
        "id": "OreDKRPUTlY2",
        "outputId": "60f037b8-dbc2-413f-9110-b542ea99449d"
      },
      "execution_count": 24,
      "outputs": [
        {
          "output_type": "stream",
          "name": "stdout",
          "text": [
            "12.328521490097046\n"
          ]
        }
      ]
    }
  ]
}