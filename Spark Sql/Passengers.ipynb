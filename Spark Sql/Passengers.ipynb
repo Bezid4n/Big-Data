{
  "nbformat": 4,
  "nbformat_minor": 0,
  "metadata": {
    "colab": {
      "provenance": []
    },
    "kernelspec": {
      "name": "python3",
      "display_name": "Python 3"
    },
    "language_info": {
      "name": "python"
    }
  },
  "cells": [
    {
      "cell_type": "code",
      "execution_count": 1,
      "metadata": {
        "id": "vpn8ne3R-ws6"
      },
      "outputs": [],
      "source": [
        "from pyspark.sql import SparkSession"
      ]
    },
    {
      "cell_type": "code",
      "source": [
        "spark = SparkSession.builder.master('local[*]').appName('Passengers_SQL').getOrCreate()"
      ],
      "metadata": {
        "id": "iEo5FGEn_CGb"
      },
      "execution_count": 2,
      "outputs": []
    },
    {
      "cell_type": "code",
      "source": [
        "passengers_df = spark.read.csv('/content/lax_passengers_header.csv', sep=',', header=True, inferSchema=True)"
      ],
      "metadata": {
        "id": "FNY5ztyzt5Pb"
      },
      "execution_count": 3,
      "outputs": []
    },
    {
      "cell_type": "code",
      "source": [
        "passengers_df.printSchema()"
      ],
      "metadata": {
        "colab": {
          "base_uri": "https://localhost:8080/"
        },
        "id": "rV2R9_2NuESL",
        "outputId": "3cfca815-7592-49b2-e618-0bae197d7772"
      },
      "execution_count": 4,
      "outputs": [
        {
          "output_type": "stream",
          "name": "stdout",
          "text": [
            "root\n",
            " |-- DataExtractDate: string (nullable = true)\n",
            " |-- ReportPeriod: string (nullable = true)\n",
            " |-- Terminal: string (nullable = true)\n",
            " |-- Arrival_Departure: string (nullable = true)\n",
            " |-- Domestic_International: string (nullable = true)\n",
            " |-- Passenger_Count: integer (nullable = true)\n",
            "\n"
          ]
        }
      ]
    },
    {
      "cell_type": "code",
      "source": [
        "passengers_df.show(10)"
      ],
      "metadata": {
        "colab": {
          "base_uri": "https://localhost:8080/"
        },
        "id": "ZlS3zU6WuRlS",
        "outputId": "cd1a0956-f776-4f18-8925-1c3e7f2c9e01"
      },
      "execution_count": 5,
      "outputs": [
        {
          "output_type": "stream",
          "name": "stdout",
          "text": [
            "+--------------------+--------------------+-----------------+-----------------+----------------------+---------------+\n",
            "|     DataExtractDate|        ReportPeriod|         Terminal|Arrival_Departure|Domestic_International|Passenger_Count|\n",
            "+--------------------+--------------------+-----------------+-----------------+----------------------+---------------+\n",
            "|05/01/2014 12:00:...|01/01/2006 12:00:...|Imperial Terminal|          Arrival|              Domestic|            490|\n",
            "|05/01/2014 12:00:...|01/01/2006 12:00:...|Imperial Terminal|        Departure|              Domestic|            498|\n",
            "|05/01/2014 12:00:...|01/01/2006 12:00:...|   Misc. Terminal|          Arrival|              Domestic|            753|\n",
            "|05/01/2014 12:00:...|01/01/2006 12:00:...|   Misc. Terminal|        Departure|              Domestic|            688|\n",
            "|05/01/2014 12:00:...|01/01/2006 12:00:...|       Terminal 1|          Arrival|              Domestic|         401535|\n",
            "|05/01/2014 12:00:...|01/01/2006 12:00:...|       Terminal 1|        Departure|              Domestic|         389745|\n",
            "|05/01/2014 12:00:...|01/01/2006 12:00:...|       Terminal 1|        Departure|         International|            561|\n",
            "|05/01/2014 12:00:...|01/01/2006 12:00:...|       Terminal 2|          Arrival|              Domestic|          98991|\n",
            "|05/01/2014 12:00:...|01/01/2006 12:00:...|       Terminal 2|          Arrival|         International|         163067|\n",
            "|05/01/2014 12:00:...|01/01/2006 12:00:...|       Terminal 2|        Departure|              Domestic|          93672|\n",
            "+--------------------+--------------------+-----------------+-----------------+----------------------+---------------+\n",
            "only showing top 10 rows\n",
            "\n"
          ]
        }
      ]
    },
    {
      "cell_type": "code",
      "source": [
        "passengers_df.createOrReplaceTempView('Passengers')"
      ],
      "metadata": {
        "id": "O0BKV0IGvBNN"
      },
      "execution_count": 6,
      "outputs": []
    },
    {
      "cell_type": "code",
      "source": [
        "spark.sql('SELECT DISTINCT Terminal FROM Passengers').show(20,truncate=False)"
      ],
      "metadata": {
        "colab": {
          "base_uri": "https://localhost:8080/"
        },
        "id": "sqis5qaCv_qh",
        "outputId": "65e119b5-5b0c-4ece-b0a5-7da9623a173c"
      },
      "execution_count": 7,
      "outputs": [
        {
          "output_type": "stream",
          "name": "stdout",
          "text": [
            "+----------------------------------+\n",
            "|Terminal                          |\n",
            "+----------------------------------+\n",
            "|Terminal 6                        |\n",
            "|Terminal 8                        |\n",
            "|Imperial Terminal                 |\n",
            "|Terminal 3                        |\n",
            "|Terminal 2                        |\n",
            "|Tom Bradley International Terminal|\n",
            "|Terminal 4                        |\n",
            "|Terminal 5                        |\n",
            "|Terminal 1                        |\n",
            "|Misc. Terminal                    |\n",
            "|Terminal 7                        |\n",
            "+----------------------------------+\n",
            "\n"
          ]
        }
      ]
    },
    {
      "cell_type": "code",
      "source": [
        "Query=\"\"\"SELECT CONCAT(SUBSTRING(ReportPeriod,0,3),SUBSTRING(ReportPeriod,7,4)) ReportPeriod,SUM(Passenger_Count) Passenger_Count\n",
        "         FROM Passengers\n",
        "         WHERE Terminal IN (\"Terminal 1\",\"Terminal 2\",\"Terminal 3\",\"Terminal 4\",\n",
        "                             \"Terminal 5\",\"Terminal 6\",\"Terminal 7\",\"Terminal 8\",\"Tom Bradley International Terminal\")\n",
        "         GROUP BY CONCAT(SUBSTRING(ReportPeriod,0,3),SUBSTRING(ReportPeriod,7,4))\n",
        "         HAVING SUM(Passenger_Count)>5000000\n",
        "         ORDER BY SUBSTRING(ReportPeriod,7,4)\n",
        "      \"\"\"\n",
        "spark.sql(Query).show(100)"
      ],
      "metadata": {
        "id": "M-Nz3f1G1O7G",
        "colab": {
          "base_uri": "https://localhost:8080/"
        },
        "outputId": "7bcff599-52f7-4bf7-c6d8-f06fc4a53987"
      },
      "execution_count": 20,
      "outputs": [
        {
          "output_type": "stream",
          "name": "stdout",
          "text": [
            "+------------+---------------+\n",
            "|ReportPeriod|Passenger_Count|\n",
            "+------------+---------------+\n",
            "|     12/2010|        5045354|\n",
            "|     07/2010|        5692210|\n",
            "|     06/2010|        5311142|\n",
            "|     08/2010|        5617610|\n",
            "|     08/2011|        5918484|\n",
            "|     04/2011|        5028056|\n",
            "|     05/2011|        5476704|\n",
            "|     10/2011|        5124462|\n",
            "|     06/2011|        5631602|\n",
            "|     07/2011|        6071335|\n",
            "|     12/2011|        5025839|\n",
            "|     04/2012|        5160973|\n",
            "|     09/2012|        5053923|\n",
            "|     06/2012|        5739649|\n",
            "|     03/2012|        5252277|\n",
            "|     05/2012|        5412646|\n",
            "|     10/2012|        5190645|\n",
            "|     12/2012|        5176037|\n",
            "|     07/2012|        6190236|\n",
            "|     08/2012|        6093051|\n",
            "|     10/2013|        5386378|\n",
            "|     12/2013|        5606038|\n",
            "|     09/2013|        5159762|\n",
            "|     08/2013|        6160839|\n",
            "|     03/2013|        5385531|\n",
            "|     07/2013|        6292610|\n",
            "|     05/2013|        5557314|\n",
            "|     06/2013|        5947409|\n",
            "|     04/2013|        5157963|\n",
            "|     04/2014|        5614336|\n",
            "|     03/2014|        5622137|\n",
            "|     01/2014|        5263473|\n",
            "|     12/2014|        5825265|\n",
            "|     08/2014|        6595721|\n",
            "|     05/2014|        5925513|\n",
            "|     06/2014|        6373135|\n",
            "|     09/2014|        5478410|\n",
            "|     11/2014|        5288012|\n",
            "|     10/2014|        5766258|\n",
            "|     07/2014|        6709940|\n",
            "|     12/2015|        6196206|\n",
            "|     09/2015|        5852619|\n",
            "|     10/2015|        6183076|\n",
            "|     04/2015|        5746373|\n",
            "|     03/2015|        5916774|\n",
            "|     11/2015|        5838539|\n",
            "|     05/2015|        6148998|\n",
            "|     06/2015|        6579357|\n",
            "|     01/2015|        5339983|\n",
            "|     07/2015|        7063573|\n",
            "|     08/2015|        6902789|\n",
            "|     04/2016|        6109205|\n",
            "|     03/2006|        5088556|\n",
            "|     10/2016|        6629325|\n",
            "|     07/2016|        7621225|\n",
            "|     11/2016|        6272290|\n",
            "|     09/2016|        6375328|\n",
            "|     12/2016|        6640915|\n",
            "|     01/2016|        5869759|\n",
            "|     05/2006|        5176330|\n",
            "|     06/2016|        7230571|\n",
            "|     04/2006|        5085946|\n",
            "|     03/2016|        6277897|\n",
            "|     08/2016|        7344648|\n",
            "|     06/2006|        5509853|\n",
            "|     08/2006|        5745000|\n",
            "|     07/2006|        5919529|\n",
            "|     02/2016|        5280381|\n",
            "|     12/2006|        5070491|\n",
            "|     05/2016|        6571091|\n",
            "|     04/2017|        6640015|\n",
            "|     03/2007|        5240144|\n",
            "|     01/2017|        6213892|\n",
            "|     06/2017|        7470964|\n",
            "|     06/2007|        5626291|\n",
            "|     10/2007|        5069354|\n",
            "|     07/2017|        7910993|\n",
            "|     04/2007|        5172120|\n",
            "|     07/2007|        6052466|\n",
            "|     12/2007|        5186354|\n",
            "|     02/2017|        5387511|\n",
            "|     08/2017|        7674171|\n",
            "|     05/2017|        6933026|\n",
            "|     03/2017|        6525366|\n",
            "|     08/2007|        5939540|\n",
            "|     05/2007|        5256763|\n",
            "|     03/2008|        5232233|\n",
            "|     05/2008|        5247792|\n",
            "|     06/2008|        5538956|\n",
            "|     08/2008|        5714031|\n",
            "|     07/2008|        5790776|\n",
            "|     06/2009|        5040114|\n",
            "|     08/2009|        5437347|\n",
            "|     07/2009|        5603652|\n",
            "+------------+---------------+\n",
            "\n"
          ]
        }
      ]
    },
    {
      "cell_type": "code",
      "source": [],
      "metadata": {
        "id": "PFFNmOM1vJw2"
      },
      "execution_count": null,
      "outputs": []
    }
  ]
}