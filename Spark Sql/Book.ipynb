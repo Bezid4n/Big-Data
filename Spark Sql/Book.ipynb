{
  "cells": [
    {
      "cell_type": "code",
      "execution_count": 1,
      "metadata": {
        "id": "p-Wc8Nvu-ucO"
      },
      "outputs": [],
      "source": [
        "from pyspark.sql import SparkSession"
      ]
    },
    {
      "cell_type": "code",
      "execution_count": 2,
      "metadata": {
        "id": "N0BQVQi1_GCz"
      },
      "outputs": [],
      "source": [
        "spark = SparkSession.builder.master('local[*]').appName('Book_SQL').getOrCreate()"
      ]
    },
    {
      "cell_type": "code",
      "execution_count": 3,
      "metadata": {
        "id": "ZaoAZPJS_Nff"
      },
      "outputs": [],
      "source": [
        "book_df = spark.read.csv('/content/Books.csv', sep=';', header=True, inferSchema=True)\n",
        "user_df = spark.read.csv('/content/Users.csv', sep=';', header=True, inferSchema=True)\n",
        "rate_df = spark.read.csv('/content/Book-Ratings.csv', sep=';', header=True, inferSchema=True)"
      ]
    },
    {
      "cell_type": "code",
      "execution_count": 4,
      "metadata": {
        "id": "y9VNXmL1HSb_",
        "colab": {
          "base_uri": "https://localhost:8080/"
        },
        "outputId": "2a111237-2d79-4b2c-9447-33a2505a4e21"
      },
      "outputs": [
        {
          "output_type": "stream",
          "name": "stdout",
          "text": [
            "root\n",
            " |-- ISBN: string (nullable = true)\n",
            " |-- BookTitle: string (nullable = true)\n",
            " |-- BookAuthor: string (nullable = true)\n",
            " |-- YearOfPublication: integer (nullable = true)\n",
            " |-- Publisher: string (nullable = true)\n",
            " |-- ImageURLS: string (nullable = true)\n",
            " |-- ImageURLM: string (nullable = true)\n",
            " |-- ImageURLL: string (nullable = true)\n",
            "\n"
          ]
        }
      ],
      "source": [
        "book_df.printSchema()"
      ]
    },
    {
      "cell_type": "code",
      "source": [
        "book_df_filtered=book_df.select('isbn', 'booktitle')\n",
        "book_df_filtered.show(5)"
      ],
      "metadata": {
        "colab": {
          "base_uri": "https://localhost:8080/"
        },
        "id": "OHf8MjrI4Ajl",
        "outputId": "2cbebfaa-ac2c-4736-8613-202d02dce134"
      },
      "execution_count": 7,
      "outputs": [
        {
          "output_type": "stream",
          "name": "stdout",
          "text": [
            "+----------+--------------------+\n",
            "|      isbn|           booktitle|\n",
            "+----------+--------------------+\n",
            "|0195153448| Classical Mythology|\n",
            "|0002005018|        Clara Callan|\n",
            "|0060973129|Decision in Normandy|\n",
            "|0374157065|Flu: The Story of...|\n",
            "|0393045218|The Mummies of Ur...|\n",
            "+----------+--------------------+\n",
            "only showing top 5 rows\n",
            "\n"
          ]
        }
      ]
    },
    {
      "cell_type": "code",
      "execution_count": 8,
      "metadata": {
        "id": "H76_37xKAxpV",
        "colab": {
          "base_uri": "https://localhost:8080/"
        },
        "outputId": "24e99386-c8e4-49c2-db4e-839ed25d1605"
      },
      "outputs": [
        {
          "output_type": "stream",
          "name": "stdout",
          "text": [
            "root\n",
            " |-- UserID: integer (nullable = true)\n",
            " |-- USERNAME: string (nullable = true)\n",
            " |-- Location: string (nullable = true)\n",
            " |-- Age: string (nullable = true)\n",
            "\n"
          ]
        }
      ],
      "source": [
        "user_df.printSchema()"
      ]
    },
    {
      "cell_type": "code",
      "execution_count": 9,
      "metadata": {
        "colab": {
          "base_uri": "https://localhost:8080/"
        },
        "id": "VpAo0LiOA65S",
        "outputId": "5ae111e8-829c-4369-883c-7f9761d8f71e"
      },
      "outputs": [
        {
          "output_type": "stream",
          "name": "stdout",
          "text": [
            "+------+-----------+\n",
            "|UserId|   UserName|\n",
            "+------+-----------+\n",
            "|     1|bzsufoRTLN2|\n",
            "|     2|fq7kfHg4VEI|\n",
            "|     3|W0Hbkd3xR8v|\n",
            "|     4|W51GahAx5Ap|\n",
            "|     5|VKN3PQ18GgN|\n",
            "+------+-----------+\n",
            "only showing top 5 rows\n",
            "\n"
          ]
        }
      ],
      "source": [
        "user_df_filtered=user_df.select('UserId', 'UserName')\n",
        "user_df_filtered.show(5)"
      ]
    },
    {
      "cell_type": "code",
      "execution_count": 10,
      "metadata": {
        "colab": {
          "base_uri": "https://localhost:8080/"
        },
        "id": "zJ5aQ4L3CGbH",
        "outputId": "e0b786aa-e962-49b4-9b4b-7447b15b03c6"
      },
      "outputs": [
        {
          "output_type": "stream",
          "name": "stdout",
          "text": [
            "root\n",
            " |-- userid: integer (nullable = true)\n",
            " |-- isbn: string (nullable = true)\n",
            " |-- rate: integer (nullable = true)\n",
            "\n"
          ]
        }
      ],
      "source": [
        "rate_df.printSchema()"
      ]
    },
    {
      "cell_type": "code",
      "execution_count": 11,
      "metadata": {
        "colab": {
          "base_uri": "https://localhost:8080/"
        },
        "id": "2GjOs4H0KPZZ",
        "outputId": "0b8cc3e7-f115-4666-8e77-1cbe3d10f513"
      },
      "outputs": [
        {
          "output_type": "stream",
          "name": "stdout",
          "text": [
            "+------+----------+----+\n",
            "|userid|      isbn|rate|\n",
            "+------+----------+----+\n",
            "|276725|034545104X|   0|\n",
            "|276726|0155061224|   5|\n",
            "|276727|0446520802|   0|\n",
            "|276729|052165615X|   3|\n",
            "|276729|0521795028|   6|\n",
            "+------+----------+----+\n",
            "only showing top 5 rows\n",
            "\n"
          ]
        }
      ],
      "source": [
        "rate_df.show(5)"
      ]
    },
    {
      "cell_type": "code",
      "execution_count": 12,
      "metadata": {
        "id": "Q7O0RJ_NrzAE"
      },
      "outputs": [],
      "source": [
        "book_df_filtered.createOrReplaceTempView('Book')\n",
        "user_df_filtered.createOrReplaceTempView('User')\n",
        "rate_df.createOrReplaceTempView('Rate')"
      ]
    },
    {
      "cell_type": "code",
      "execution_count": 34,
      "metadata": {
        "colab": {
          "base_uri": "https://localhost:8080/"
        },
        "id": "W03b67NNKInq",
        "outputId": "c0f2db81-bdcc-4308-a917-cf0156574849"
      },
      "outputs": [
        {
          "output_type": "stream",
          "name": "stdout",
          "text": [
            "+-----------+--------------------------------------------------------------+----+-------+\n",
            "|UserName   |BookTitle                                                     |Rate|AvgRate|\n",
            "+-----------+--------------------------------------------------------------+----+-------+\n",
            "|6chdqlR3DC7|The Way Things Work: An Illustrated Encyclopedia of Technology|8   |8.0    |\n",
            "|px70uymJ7k6|Mog's Christmas                                               |0   |0.0    |\n",
            "|mjteD2ip2Lj|Mog's Christmas                                               |0   |0.0    |\n",
            "|cHwJip4Kj4k|Liar                                                          |9   |9.0    |\n",
            "|6VUiynjA3tV|The Prime of Miss Jean Brodie                                 |0   |0.0    |\n",
            "|cHwJip4Kj4k|The Fighting Man                                              |9   |9.0    |\n",
            "|a0EEWhgtsW8|First Among Equals                                            |0   |0.0    |\n",
            "|Tupz6KKVgIq|Matter Of Honour                                              |0   |0.0    |\n",
            "|OMqCFWvTBPp|Kidnapped                                                     |0   |0.0    |\n",
            "|EM5BvtuvZ91|Brave New World                                               |9   |9.0    |\n",
            "+-----------+--------------------------------------------------------------+----+-------+\n",
            "only showing top 10 rows\n",
            "\n"
          ]
        }
      ],
      "source": [
        "Query=\"\"\"SELECT U.UserName,B.BookTitle,R.Rate,R2.AvgRate\n",
        "         FROM Rate R\n",
        "         INNER JOIN Book B ON B.ISBN=R.ISBN\n",
        "         INNER JOIN User U ON U.UserId=R.UserId\n",
        "         INNER JOIN (SELECT ISBN,AVG(rate) AvgRate\n",
        "                     FROM Rate\n",
        "                     GROUP BY ISBN)R2 ON R2.ISBN=R.ISBN\n",
        "      \"\"\"\n",
        "Result=spark.sql(Query)\n",
        "Result.show(10,truncate=False)"
      ]
    },
    {
      "cell_type": "code",
      "execution_count": 35,
      "metadata": {
        "id": "GdjXHyzt5a6M"
      },
      "outputs": [],
      "source": [
        "Result.write.csv('/content/bookRate_output')"
      ]
    },
    {
      "cell_type": "code",
      "source": [],
      "metadata": {
        "id": "Dk4KWy5FAPGZ"
      },
      "execution_count": null,
      "outputs": []
    }
  ],
  "metadata": {
    "colab": {
      "provenance": []
    },
    "kernelspec": {
      "display_name": "Python 3",
      "name": "python3"
    },
    "language_info": {
      "name": "python"
    }
  },
  "nbformat": 4,
  "nbformat_minor": 0
}