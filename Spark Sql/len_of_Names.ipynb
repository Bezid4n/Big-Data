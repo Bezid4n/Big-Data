{
  "nbformat": 4,
  "nbformat_minor": 0,
  "metadata": {
    "colab": {
      "provenance": []
    },
    "kernelspec": {
      "name": "python3",
      "display_name": "Python 3"
    },
    "language_info": {
      "name": "python"
    }
  },
  "cells": [
    {
      "cell_type": "code",
      "execution_count": 43,
      "metadata": {
        "id": "f8eIll9P6Eju"
      },
      "outputs": [],
      "source": [
        "from pyspark.sql import SparkSession\n",
        "from pyspark.sql import Row\n",
        "from pyspark.sql.functions import *\n",
        "from pyspark.sql.types import *"
      ]
    },
    {
      "cell_type": "code",
      "source": [
        "spark = SparkSession.builder.master('local[*]').appName('Len of Names_SQL').getOrCreate()\n",
        "sc=spark.sparkContext"
      ],
      "metadata": {
        "id": "K9w6veT47lEj"
      },
      "execution_count": 12,
      "outputs": []
    },
    {
      "cell_type": "code",
      "source": [
        "listOfNames = ['ali','reza','behzad','vahid','mina','ava','zahra','saeed','afsane','sara','homa','hana','davood','aysa','mahboobe','kazem','bahare','mahshid','farid','milad','mahvash','parivash']"
      ],
      "metadata": {
        "id": "2NVtNNls7v-u"
      },
      "execution_count": 13,
      "outputs": []
    },
    {
      "cell_type": "code",
      "source": [
        "names_rdd = sc.parallelize(listOfNames)"
      ],
      "metadata": {
        "id": "IvH9MmR9-QAE"
      },
      "execution_count": 14,
      "outputs": []
    },
    {
      "cell_type": "code",
      "source": [
        "names_rdd.collect()"
      ],
      "metadata": {
        "colab": {
          "base_uri": "https://localhost:8080/"
        },
        "id": "fJci-U-uhPTO",
        "outputId": "a7abad53-8bdf-45fe-b776-4818b70a1f72"
      },
      "execution_count": 16,
      "outputs": [
        {
          "output_type": "execute_result",
          "data": {
            "text/plain": [
              "['ali',\n",
              " 'reza',\n",
              " 'behzad',\n",
              " 'vahid',\n",
              " 'mina',\n",
              " 'ava',\n",
              " 'zahra',\n",
              " 'saeed',\n",
              " 'afsane',\n",
              " 'sara',\n",
              " 'homa',\n",
              " 'hana',\n",
              " 'davood',\n",
              " 'aysa',\n",
              " 'mahboobe',\n",
              " 'kazem',\n",
              " 'bahare',\n",
              " 'mahshid',\n",
              " 'farid',\n",
              " 'milad',\n",
              " 'mahvash',\n",
              " 'parivash']"
            ]
          },
          "metadata": {},
          "execution_count": 16
        }
      ]
    },
    {
      "cell_type": "code",
      "source": [
        "tmp_rdd = names_rdd.map(lambda x : Row(names = x))"
      ],
      "metadata": {
        "id": "rucE3SiMiSxu"
      },
      "execution_count": 17,
      "outputs": []
    },
    {
      "cell_type": "code",
      "source": [
        "tmp_rdd.collect()"
      ],
      "metadata": {
        "colab": {
          "base_uri": "https://localhost:8080/"
        },
        "id": "XRXQ5K1ciyns",
        "outputId": "c1bb22a7-13d4-45f4-a69e-47ae60e59e71"
      },
      "execution_count": 18,
      "outputs": [
        {
          "output_type": "execute_result",
          "data": {
            "text/plain": [
              "[Row(names='ali'),\n",
              " Row(names='reza'),\n",
              " Row(names='behzad'),\n",
              " Row(names='vahid'),\n",
              " Row(names='mina'),\n",
              " Row(names='ava'),\n",
              " Row(names='zahra'),\n",
              " Row(names='saeed'),\n",
              " Row(names='afsane'),\n",
              " Row(names='sara'),\n",
              " Row(names='homa'),\n",
              " Row(names='hana'),\n",
              " Row(names='davood'),\n",
              " Row(names='aysa'),\n",
              " Row(names='mahboobe'),\n",
              " Row(names='kazem'),\n",
              " Row(names='bahare'),\n",
              " Row(names='mahshid'),\n",
              " Row(names='farid'),\n",
              " Row(names='milad'),\n",
              " Row(names='mahvash'),\n",
              " Row(names='parivash')]"
            ]
          },
          "metadata": {},
          "execution_count": 18
        }
      ]
    },
    {
      "cell_type": "code",
      "source": [
        "names_df = spark.createDataFrame(tmp_rdd)"
      ],
      "metadata": {
        "id": "aUR3Qbqhi67L"
      },
      "execution_count": 19,
      "outputs": []
    },
    {
      "cell_type": "code",
      "source": [
        "names_df.printSchema()"
      ],
      "metadata": {
        "colab": {
          "base_uri": "https://localhost:8080/"
        },
        "id": "V5e2QuckjCV3",
        "outputId": "f526a06c-c996-42a3-8038-33b4310f6938"
      },
      "execution_count": 20,
      "outputs": [
        {
          "output_type": "stream",
          "name": "stdout",
          "text": [
            "root\n",
            " |-- names: string (nullable = true)\n",
            "\n"
          ]
        }
      ]
    },
    {
      "cell_type": "code",
      "source": [
        "names_df.show(30)"
      ],
      "metadata": {
        "colab": {
          "base_uri": "https://localhost:8080/"
        },
        "id": "kN1Ang1JjHgv",
        "outputId": "af6532a7-868f-421d-cd0b-3d47f7cee6eb"
      },
      "execution_count": 22,
      "outputs": [
        {
          "output_type": "stream",
          "name": "stdout",
          "text": [
            "+--------+\n",
            "|   names|\n",
            "+--------+\n",
            "|     ali|\n",
            "|    reza|\n",
            "|  behzad|\n",
            "|   vahid|\n",
            "|    mina|\n",
            "|     ava|\n",
            "|   zahra|\n",
            "|   saeed|\n",
            "|  afsane|\n",
            "|    sara|\n",
            "|    homa|\n",
            "|    hana|\n",
            "|  davood|\n",
            "|    aysa|\n",
            "|mahboobe|\n",
            "|   kazem|\n",
            "|  bahare|\n",
            "| mahshid|\n",
            "|   farid|\n",
            "|   milad|\n",
            "| mahvash|\n",
            "|parivash|\n",
            "+--------+\n",
            "\n"
          ]
        }
      ]
    },
    {
      "cell_type": "code",
      "source": [
        "names_df.withColumn('lenOfNames', length('names')).groupBy('lenOfNames').agg(collect_list('names').alias('names')).orderBy('lenOfNames').show(10,truncate=False)"
      ],
      "metadata": {
        "colab": {
          "base_uri": "https://localhost:8080/"
        },
        "id": "_zE2JW2kkrHp",
        "outputId": "8f6accc1-a8cf-4c2a-bc4d-10e4ac9d532e"
      },
      "execution_count": 52,
      "outputs": [
        {
          "output_type": "stream",
          "name": "stdout",
          "text": [
            "+----------+------------------------------------------+\n",
            "|lenOfNames|names                                     |\n",
            "+----------+------------------------------------------+\n",
            "|3         |[ali, ava]                                |\n",
            "|4         |[reza, mina, sara, homa, hana, aysa]      |\n",
            "|5         |[vahid, zahra, saeed, kazem, farid, milad]|\n",
            "|6         |[behzad, afsane, davood, bahare]          |\n",
            "|7         |[mahshid, mahvash]                        |\n",
            "|8         |[mahboobe, parivash]                      |\n",
            "+----------+------------------------------------------+\n",
            "\n"
          ]
        }
      ]
    }
  ]
}