{
  "cells": [
    {
      "cell_type": "code",
      "execution_count": 1,
      "metadata": {
        "id": "f8eIll9P6Eju"
      },
      "outputs": [],
      "source": [
        "from pyspark import SparkContext"
      ]
    },
    {
      "cell_type": "code",
      "execution_count": null,
      "metadata": {
        "id": "K9w6veT47lEj"
      },
      "outputs": [],
      "source": [
        "sc = SparkContext(master='local[*]', appName='Len of Names')"
      ]
    },
    {
      "cell_type": "code",
      "execution_count": 3,
      "metadata": {
        "id": "2NVtNNls7v-u"
      },
      "outputs": [],
      "source": [
        "listOfNames = ['ali','reza','behzad','vahid','mina','ava','zahra','saeed','afsane','sara','homa','hana','davood','aysa','mahboobe','kazem','bahare','mahshid','farid','milad','mahvash','parivash']"
      ]
    },
    {
      "cell_type": "code",
      "execution_count": 4,
      "metadata": {
        "id": "IvH9MmR9-QAE"
      },
      "outputs": [],
      "source": [
        "names_rdd = sc.parallelize(listOfNames)"
      ]
    },
    {
      "cell_type": "code",
      "execution_count": 38,
      "metadata": {
        "colab": {
          "base_uri": "https://localhost:8080/"
        },
        "id": "L7XPrQuz-vK0",
        "outputId": "2c531baf-a644-4f42-9355-d70a5ad4e22f"
      },
      "outputs": [
        {
          "data": {
            "text/plain": [
              "[(3, ['ali', 'ava']),\n",
              " (4, ['reza', 'mina', 'sara', 'homa', 'hana', 'aysa']),\n",
              " (5, ['vahid', 'zahra', 'saeed', 'kazem', 'farid', 'milad']),\n",
              " (6, ['behzad', 'afsane', 'davood', 'bahare']),\n",
              " (7, ['mahshid', 'mahvash']),\n",
              " (8, ['mahboobe', 'parivash'])]"
            ]
          },
          "execution_count": 38,
          "metadata": {},
          "output_type": "execute_result"
        }
      ],
      "source": [
        "names_rdd.map(lambda x : [len(x),x]).groupByKey().map(lambda x: (x[0], list(x[1]))).sortByKey().collect()"
      ]
    },
    {
      "cell_type": "code",
      "execution_count": null,
      "metadata": {
        "id": "g0SGY8FSCLGO"
      },
      "outputs": [],
      "source": []
    }
  ],
  "metadata": {
    "colab": {
      "provenance": []
    },
    "kernelspec": {
      "display_name": "Python 3",
      "name": "python3"
    },
    "language_info": {
      "name": "python"
    }
  },
  "nbformat": 4,
  "nbformat_minor": 0
}
