{
  "nbformat": 4,
  "nbformat_minor": 0,
  "metadata": {
    "colab": {
      "provenance": []
    },
    "kernelspec": {
      "name": "python3",
      "display_name": "Python 3"
    },
    "language_info": {
      "name": "python"
    }
  },
  "cells": [
    {
      "cell_type": "code",
      "execution_count": 1,
      "metadata": {
        "id": "vpn8ne3R-ws6"
      },
      "outputs": [],
      "source": [
        "from pyspark import SparkContext"
      ]
    },
    {
      "cell_type": "code",
      "source": [
        "sc = SparkContext(master='local[*]', appName='Passengers')"
      ],
      "metadata": {
        "id": "iEo5FGEn_CGb"
      },
      "execution_count": 2,
      "outputs": []
    },
    {
      "cell_type": "code",
      "source": [
        "passengers_rdd = sc.textFile('/content/lax_passengers_header.csv')"
      ],
      "metadata": {
        "id": "jg_nrlbg_GPW"
      },
      "execution_count": 3,
      "outputs": []
    },
    {
      "cell_type": "code",
      "source": [
        "header=passengers_rdd.first()"
      ],
      "metadata": {
        "id": "Oq3XT1B7_ZAE"
      },
      "execution_count": 4,
      "outputs": []
    },
    {
      "cell_type": "code",
      "source": [
        "data=passengers_rdd.filter(lambda x: x!= header)"
      ],
      "metadata": {
        "id": "V2Tdh08vbfYp"
      },
      "execution_count": 5,
      "outputs": []
    },
    {
      "cell_type": "code",
      "source": [
        "def cleanData(data):\n",
        "    parts = data.split(\",\")\n",
        "    return (parts[1][:3]+parts[1][6:10], parts[2], int(parts[5]))"
      ],
      "metadata": {
        "id": "Mx9S0aoJEkuw"
      },
      "execution_count": 6,
      "outputs": []
    },
    {
      "cell_type": "code",
      "source": [
        "cleanData('05/01/2014 12:00:00 AM,01/01/2006 12:00:00 AM,Imperial Terminal,Arrival,Domestic,490')"
      ],
      "metadata": {
        "colab": {
          "base_uri": "https://localhost:8080/"
        },
        "id": "gdA-LK2eEo5v",
        "outputId": "25f39113-8c37-46ec-d82d-a01054f1ccb1"
      },
      "execution_count": 7,
      "outputs": [
        {
          "output_type": "execute_result",
          "data": {
            "text/plain": [
              "('01/2006', 'Imperial Terminal', 490)"
            ]
          },
          "metadata": {},
          "execution_count": 7
        }
      ]
    },
    {
      "cell_type": "code",
      "source": [
        "terminals_filtered=data.map(lambda x: cleanData(x)).filter(lambda x: 'Terminal 1' in x or 'Terminal 2' in x or 'Terminal 3' in x or 'Terminal 4' in x or\n",
        "                                                  'Terminal 5' in x or 'Terminal 6' in x or 'Terminal 7' in x or 'Terminal 8' in x or\n",
        "                                                  'Tom Bradley' in x)"
      ],
      "metadata": {
        "id": "DYxiw-OXH6J7"
      },
      "execution_count": 8,
      "outputs": []
    },
    {
      "cell_type": "code",
      "source": [
        "result=terminals_filtered.map(lambda x: (x[0],x[2])).reduceByKey(lambda x,y: x+y).filter(lambda x: x[1]>5000000)"
      ],
      "metadata": {
        "id": "jfJNQBS1cKc_"
      },
      "execution_count": 11,
      "outputs": []
    },
    {
      "cell_type": "code",
      "source": [
        "result.count()"
      ],
      "metadata": {
        "colab": {
          "base_uri": "https://localhost:8080/"
        },
        "id": "cqSgrIaOxtKt",
        "outputId": "6ff65229-9963-4ac8-e129-449123eec7a3"
      },
      "execution_count": 28,
      "outputs": [
        {
          "output_type": "execute_result",
          "data": {
            "text/plain": [
              "38"
            ]
          },
          "metadata": {},
          "execution_count": 28
        }
      ]
    },
    {
      "cell_type": "code",
      "source": [
        "result.takeOrdered(38,lambda x: x[0][3:7])"
      ],
      "metadata": {
        "colab": {
          "base_uri": "https://localhost:8080/"
        },
        "id": "XxLaa0jEzBcf",
        "outputId": "b2cc5671-12fd-4375-a862-88f6bd643c38"
      },
      "execution_count": 33,
      "outputs": [
        {
          "output_type": "execute_result",
          "data": {
            "text/plain": [
              "[('07/2006', 5006683),\n",
              " ('07/2007', 5122298),\n",
              " ('08/2007', 5037515),\n",
              " ('07/2011', 5219072),\n",
              " ('08/2011', 5073608),\n",
              " ('07/2012', 5332991),\n",
              " ('08/2012', 5258122),\n",
              " ('06/2013', 5096083),\n",
              " ('07/2013', 5415553),\n",
              " ('08/2013', 5271122),\n",
              " ('05/2014', 5006776),\n",
              " ('07/2014', 5651960),\n",
              " ('08/2014', 5527503),\n",
              " ('06/2014', 5366133),\n",
              " ('03/2015', 5000682),\n",
              " ('06/2015', 5472859),\n",
              " ('10/2015', 5085460),\n",
              " ('05/2015', 5121296),\n",
              " ('07/2015', 5813555),\n",
              " ('08/2015', 5638609),\n",
              " ('12/2015', 5167917),\n",
              " ('03/2016', 5261173),\n",
              " ('06/2016', 5964128),\n",
              " ('08/2016', 5963612),\n",
              " ('11/2016', 5221007),\n",
              " ('04/2016', 5052777),\n",
              " ('05/2016', 5434184),\n",
              " ('07/2016', 6230659),\n",
              " ('09/2016', 5156641),\n",
              " ('10/2016', 5430372),\n",
              " ('12/2016', 5497934),\n",
              " ('03/2017', 5468377),\n",
              " ('05/2017', 5575837),\n",
              " ('06/2017', 5913427),\n",
              " ('07/2017', 6206411),\n",
              " ('01/2017', 5029514),\n",
              " ('04/2017', 5474061),\n",
              " ('08/2017', 6012850)]"
            ]
          },
          "metadata": {},
          "execution_count": 33
        }
      ]
    },
    {
      "cell_type": "code",
      "source": [],
      "metadata": {
        "id": "M-Nz3f1G1O7G"
      },
      "execution_count": null,
      "outputs": []
    }
  ]
}