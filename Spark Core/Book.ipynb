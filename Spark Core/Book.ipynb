{
  "cells": [
    {
      "cell_type": "code",
      "execution_count": 4,
      "metadata": {
        "id": "p-Wc8Nvu-ucO"
      },
      "outputs": [],
      "source": [
        "from pyspark import SparkContext"
      ]
    },
    {
      "cell_type": "code",
      "execution_count": 5,
      "metadata": {
        "id": "N0BQVQi1_GCz"
      },
      "outputs": [],
      "source": [
        "sc = SparkContext(master='local[*]', appName='Book')"
      ]
    },
    {
      "cell_type": "code",
      "execution_count": 6,
      "metadata": {
        "id": "ZaoAZPJS_Nff"
      },
      "outputs": [],
      "source": [
        "book_rdd = sc.textFile('/content/Books.csv')\n",
        "user_rdd = sc.textFile('/content/Users.csv')\n",
        "rate_rdd = sc.textFile('/content/Book-Ratings.csv')"
      ]
    },
    {
      "cell_type": "code",
      "execution_count": 7,
      "metadata": {
        "id": "y9VNXmL1HSb_"
      },
      "outputs": [],
      "source": [
        "def Remove_header(data):\n",
        "  header=data.first()\n",
        "  return data.filter(lambda x: x != header)"
      ]
    },
    {
      "cell_type": "code",
      "execution_count": 8,
      "metadata": {
        "id": "H76_37xKAxpV"
      },
      "outputs": [],
      "source": [
        "def CleanData(data,rate):\n",
        "    parts = data.split(\";\")\n",
        "    if(rate==0):\n",
        "      return (parts[0].strip('\"'), parts[1].strip('\"'))\n",
        "    else:\n",
        "      return (parts[0].strip('\"'), parts[1].strip('\"'),float(parts[2].strip('\"')))"
      ]
    },
    {
      "cell_type": "code",
      "execution_count": 9,
      "metadata": {
        "colab": {
          "base_uri": "https://localhost:8080/"
        },
        "id": "VpAo0LiOA65S",
        "outputId": "af1787bd-8fc0-4ce6-a9e7-9268fef5badc"
      },
      "outputs": [
        {
          "data": {
            "text/plain": [
              "[('0195153448', 'Classical Mythology'),\n",
              " ('0002005018', 'Clara Callan'),\n",
              " ('0060973129', 'Decision in Normandy'),\n",
              " ('0374157065',\n",
              "  'Flu: The Story of the Great Influenza Pandemic of 1918 and the Search for the Virus That Caused It'),\n",
              " ('0393045218', 'The Mummies of Urumchi')]"
            ]
          },
          "execution_count": 9,
          "metadata": {},
          "output_type": "execute_result"
        }
      ],
      "source": [
        "book_clean=Remove_header(book_rdd).map(lambda x: CleanData(x,0))\n",
        "book_clean.take(5)"
      ]
    },
    {
      "cell_type": "code",
      "execution_count": 10,
      "metadata": {
        "colab": {
          "base_uri": "https://localhost:8080/"
        },
        "id": "zJ5aQ4L3CGbH",
        "outputId": "46f9790e-3e51-4b2c-9271-c9fe645ecde6"
      },
      "outputs": [
        {
          "data": {
            "text/plain": [
              "[('1', 'bzsufoRTLN2'),\n",
              " ('2', 'fq7kfHg4VEI'),\n",
              " ('3', 'W0Hbkd3xR8v'),\n",
              " ('4', 'W51GahAx5Ap'),\n",
              " ('5', 'VKN3PQ18GgN')]"
            ]
          },
          "execution_count": 10,
          "metadata": {},
          "output_type": "execute_result"
        }
      ],
      "source": [
        "user_clean=Remove_header(user_rdd).map(lambda x: CleanData(x,0))\n",
        "user_clean.take(5)"
      ]
    },
    {
      "cell_type": "code",
      "execution_count": 11,
      "metadata": {
        "colab": {
          "base_uri": "https://localhost:8080/"
        },
        "id": "2GjOs4H0KPZZ",
        "outputId": "822c1966-c3d1-4143-be58-d3c91e75f373"
      },
      "outputs": [
        {
          "data": {
            "text/plain": [
              "[('276725', '034545104X', 0.0),\n",
              " ('276726', '0155061224', 5.0),\n",
              " ('276727', '0446520802', 0.0),\n",
              " ('276729', '052165615X', 3.0),\n",
              " ('276729', '0521795028', 6.0)]"
            ]
          },
          "execution_count": 11,
          "metadata": {},
          "output_type": "execute_result"
        }
      ],
      "source": [
        "rate_clean=Remove_header(rate_rdd).map(lambda x: CleanData(x,1))\n",
        "rate_clean.take(5)"
      ]
    },
    {
      "cell_type": "code",
      "execution_count": 12,
      "metadata": {
        "id": "Q7O0RJ_NrzAE"
      },
      "outputs": [],
      "source": [
        "def Avg_Book(data):\n",
        "  book_rate=data.map(lambda x: (x[1],(x[2],1)))\n",
        "  reduce_sum_count=book_rate.reduceByKey(lambda x,y: (x[0] + y[0], x[1] + y[1]))\n",
        "  return reduce_sum_count.map(lambda x: (x[0],x[1][0] / x[1][1]))"
      ]
    },
    {
      "cell_type": "code",
      "execution_count": 13,
      "metadata": {
        "colab": {
          "base_uri": "https://localhost:8080/"
        },
        "id": "W03b67NNKInq",
        "outputId": "12d31f69-dedb-4551-bb78-788ddd934afb"
      },
      "outputs": [
        {
          "data": {
            "text/plain": [
              "[('034545104X', 2.933333333333333),\n",
              " ('0155061224', 2.5),\n",
              " ('0521795028', 6.0),\n",
              " ('0600570967', 6.0),\n",
              " ('342310538', 5.0)]"
            ]
          },
          "execution_count": 13,
          "metadata": {},
          "output_type": "execute_result"
        }
      ],
      "source": [
        "avg_book=Avg_Book(rate_clean)\n",
        "avg_book.take(5)"
      ]
    },
    {
      "cell_type": "code",
      "execution_count": 50,
      "metadata": {
        "colab": {
          "base_uri": "https://localhost:8080/"
        },
        "id": "V11-7tUumDwb",
        "outputId": "8fd09bb5-f97c-40c7-c765-72fdc3708d2a"
      },
      "outputs": [
        {
          "data": {
            "text/plain": [
              "('0060517794',\n",
              " ((('276747', 9.0), 3.6363636363636362), 'Little Altars Everywhere'))"
            ]
          },
          "execution_count": 50,
          "metadata": {},
          "output_type": "execute_result"
        }
      ],
      "source": [
        "isbnKey_Rate=rate_clean.map(lambda x: (x[1],(x[0],x[2])))\n",
        "bookName_avgRate=isbnKey_Rate.join(avg_book).join(book_clean)\n",
        "bookName_avgRate.first()"
      ]
    },
    {
      "cell_type": "code",
      "execution_count": 59,
      "metadata": {
        "colab": {
          "base_uri": "https://localhost:8080/"
        },
        "id": "Ycz8xfr2JQqw",
        "outputId": "2d0c3bea-de13-4a5c-ecbf-b9848afcdebb"
      },
      "outputs": [
        {
          "data": {
            "text/plain": [
              "[('276747', 'Little Altars Everywhere', 9.0, 3.6363636363636362),\n",
              " ('278843', 'Little Altars Everywhere', 7.0, 3.6363636363636362),\n",
              " ('4017', 'Little Altars Everywhere', 10.0, 3.6363636363636362),\n",
              " ('7158', 'Little Altars Everywhere', 0.0, 3.6363636363636362),\n",
              " ('8961', 'Little Altars Everywhere', 8.0, 3.6363636363636362)]"
            ]
          },
          "execution_count": 59,
          "metadata": {},
          "output_type": "execute_result"
        }
      ],
      "source": [
        "result1=bookName_avgRate.map(lambda x: (x[1][0][0][0],x[1][1],x[1][0][0][1],x[1][0][1]))\n",
        "result1.take(5)"
      ]
    },
    {
      "cell_type": "code",
      "execution_count": 60,
      "metadata": {
        "colab": {
          "base_uri": "https://localhost:8080/"
        },
        "id": "IBjFEVoYChiZ",
        "outputId": "e21b2664-4d52-4331-ba3c-7f5e2ee80994"
      },
      "outputs": [
        {
          "data": {
            "text/plain": [
              "('53281',\n",
              " (('Little Altars Everywhere', 0.0, 3.6363636363636362), 'qH7HZ4GG8yU'))"
            ]
          },
          "execution_count": 60,
          "metadata": {},
          "output_type": "execute_result"
        }
      ],
      "source": [
        "userName_result1=result1.map(lambda x: (x[0],(x[1],x[2],x[3]))).join(user_clean)\n",
        "userName_result1.first()"
      ]
    },
    {
      "cell_type": "code",
      "execution_count": 64,
      "metadata": {
        "colab": {
          "base_uri": "https://localhost:8080/"
        },
        "id": "OgZL46GbLTvT",
        "outputId": "bf65f451-95b1-42c5-c665-70fc1f21a9bf"
      },
      "outputs": [
        {
          "data": {
            "text/plain": [
              "[('qH7HZ4GG8yU', 'Little Altars Everywhere', 0.0, 3.6363636363636362),\n",
              " ('qH7HZ4GG8yU', 'Nine Months', 0.0, 1.875),\n",
              " ('qH7HZ4GG8yU', 'My Cousin Rachel (Common Reader Editions)', 0.0, 3.8),\n",
              " ('qH7HZ4GG8yU', 'Mesmerized', 0.0, 2.2142857142857144),\n",
              " ('qH7HZ4GG8yU', 'The Magic of Ordinary Days', 8.0, 3.7142857142857144)]"
            ]
          },
          "execution_count": 64,
          "metadata": {},
          "output_type": "execute_result"
        }
      ],
      "source": [
        "finalResult=userName_result1.map(lambda x: (x[1][1],x[1][0][0],x[1][0][1],x[1][0][2]))\n",
        "finalResult.take(5)"
      ]
    },
    {
      "cell_type": "code",
      "execution_count": 65,
      "metadata": {
        "id": "LjdWyXGLMDq_"
      },
      "outputs": [],
      "source": [
        "finalResult.saveAsTextFile('/content/bookRate_output')"
      ]
    },
    {
      "cell_type": "code",
      "execution_count": null,
      "metadata": {
        "id": "EIb7zoT-MqN8"
      },
      "outputs": [],
      "source": []
    }
  ],
  "metadata": {
    "colab": {
      "provenance": []
    },
    "kernelspec": {
      "display_name": "Python 3",
      "name": "python3"
    },
    "language_info": {
      "name": "python"
    }
  },
  "nbformat": 4,
  "nbformat_minor": 0
}
